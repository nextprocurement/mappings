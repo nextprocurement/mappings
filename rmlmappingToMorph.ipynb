{
 "cells": [
  {
   "cell_type": "code",
   "execution_count": 7,
   "metadata": {},
   "outputs": [
    {
     "name": "stderr",
     "output_type": "stream",
     "text": [
      "INFO | 2022-06-23 10:54:34,265 | 256 mapping rules retrieved.\n",
      "INFO | 2022-06-23 10:54:34,324 | Mapping partition with 1 groups generated.\n",
      "INFO | 2022-06-23 10:54:34,324 | Maximum number of rules within mapping group: 256.\n",
      "INFO | 2022-06-23 10:54:34,330 | Mappings processed in 0.882 seconds.\n"
     ]
    },
    {
     "ename": "ArrowInvalid",
     "evalue": "No match for FieldRef.Name(awards/id) in summary: string\ntitle: string\nupdated: timestamp[us, tz=UTC]\nNúmero de Expediente: string\nEstado: string\nNombre: string\nUbicación orgánica: string\nObjeto del Contrato: string\nTipo de Contrato: double\nValor estimado del contrato: double\nPresupuesto base sin impuestos: double\nClasificación CPV: list<item: double>\nCódigo de Subentidad Nacional: string\nPlazo de Ejecución (Duración): double\nTipo de Procedimiento: double\nPresentación de Oferta (Fecha): string\nPresentación de Oferta (Hora): string\nTipo de Anuncio: list<item: string>\nMedio de Publicación: list<item: string>\nFecha de Publicación: list<item: string>\nPlazo de Ejecución (Comienzo): string\nPlazo de Ejecución (Fin): string\nContractFolderStatus - LocatedContractingParty - ParentLocatedParty - ParentLocatedParty - PartyName - Name: string\nPliego de cláusulas administrativas: string\nPliego de cláusulas administrativas (URI): string\nPliego de Prescripciones técnicas: string\nPliego de Prescripciones técnicas (URI): string\nResultado: list<item: double>\nNúmero de Licitadores Participantes: list<item: double>\nIdentificador (+ Tipo: mod schemeName): list<item: string>\nNombre del Adjudicatario: list<item: string>\nImporte total ofertado (sin impuestos): list<item: double>\nPresentación de Solicitudes (Fecha): string\nPresentación de Solicitudes (Hora): string\nURL perfil de contratante: string\nID: string\nLote: list<item: double>\nPresentación de Oferta: timestamp[us, tz=UTC]\nContractFolderStatus - LocatedContractingParty - ParentLocatedParty - ParentLocatedParty - ParentLocatedParty - PartyName - Name: string\ndomain: string\nfile name: string\nentry: string\ndeleted_on: timestamp[us, tz=+01:00]\n__index_level_0__: int64",
     "output_type": "error",
     "traceback": [
      "\u001b[1;31m---------------------------------------------------------------------------\u001b[0m",
      "\u001b[1;31mArrowInvalid\u001b[0m                              Traceback (most recent call last)",
      "\u001b[1;32m~\\AppData\\Local\\Temp/ipykernel_32628/3651668819.py\u001b[0m in \u001b[0;36m<module>\u001b[1;34m\u001b[0m\n\u001b[0;32m     11\u001b[0m \u001b[1;33m\u001b[0m\u001b[0m\n\u001b[0;32m     12\u001b[0m \u001b[1;31m# generate the triples and load them to an RDFlib graph\u001b[0m\u001b[1;33m\u001b[0m\u001b[1;33m\u001b[0m\u001b[1;33m\u001b[0m\u001b[0m\n\u001b[1;32m---> 13\u001b[1;33m \u001b[0mgraph\u001b[0m \u001b[1;33m=\u001b[0m \u001b[0mmorph_kgc\u001b[0m\u001b[1;33m.\u001b[0m\u001b[0mmaterialize\u001b[0m\u001b[1;33m(\u001b[0m\u001b[0mconfig_morph\u001b[0m\u001b[1;33m)\u001b[0m\u001b[1;33m\u001b[0m\u001b[1;33m\u001b[0m\u001b[0m\n\u001b[0m\u001b[0;32m     14\u001b[0m \u001b[1;31m# work with the graph\u001b[0m\u001b[1;33m\u001b[0m\u001b[1;33m\u001b[0m\u001b[1;33m\u001b[0m\u001b[0m\n\u001b[0;32m     15\u001b[0m \u001b[1;31m#graph.serialize(destination='results/parquet.nt', format='nt')\u001b[0m\u001b[1;33m\u001b[0m\u001b[1;33m\u001b[0m\u001b[1;33m\u001b[0m\u001b[0m\n",
      "\u001b[1;32mc:\\Users\\Pedro\\AppData\\Local\\Programs\\Python\\Python39\\lib\\site-packages\\morph_kgc\\__init__.py\u001b[0m in \u001b[0;36mmaterialize\u001b[1;34m(config)\u001b[0m\n\u001b[0;32m     33\u001b[0m         \u001b[0mtriples\u001b[0m \u001b[1;33m=\u001b[0m \u001b[0mset\u001b[0m\u001b[1;33m(\u001b[0m\u001b[1;33m)\u001b[0m\u001b[1;33m\u001b[0m\u001b[1;33m\u001b[0m\u001b[0m\n\u001b[0;32m     34\u001b[0m         \u001b[1;32mfor\u001b[0m \u001b[0mi\u001b[0m\u001b[1;33m,\u001b[0m \u001b[0mmapping_rule\u001b[0m \u001b[1;32min\u001b[0m \u001b[0mmapping_partition\u001b[0m\u001b[1;33m.\u001b[0m\u001b[0miterrows\u001b[0m\u001b[1;33m(\u001b[0m\u001b[1;33m)\u001b[0m\u001b[1;33m:\u001b[0m\u001b[1;33m\u001b[0m\u001b[1;33m\u001b[0m\u001b[0m\n\u001b[1;32m---> 35\u001b[1;33m             \u001b[0mtriples\u001b[0m\u001b[1;33m.\u001b[0m\u001b[0mupdate\u001b[0m\u001b[1;33m(\u001b[0m\u001b[0mset\u001b[0m\u001b[1;33m(\u001b[0m\u001b[0m_materialize_mapping_rule\u001b[0m\u001b[1;33m(\u001b[0m\u001b[0mmapping_rule\u001b[0m\u001b[1;33m,\u001b[0m \u001b[0msubject_maps_df\u001b[0m\u001b[1;33m,\u001b[0m \u001b[0mconfig\u001b[0m\u001b[1;33m)\u001b[0m\u001b[1;33m)\u001b[0m\u001b[1;33m)\u001b[0m\u001b[1;33m\u001b[0m\u001b[1;33m\u001b[0m\u001b[0m\n\u001b[0m\u001b[0;32m     36\u001b[0m \u001b[1;33m\u001b[0m\u001b[0m\n\u001b[0;32m     37\u001b[0m             \u001b[0mlogging\u001b[0m\u001b[1;33m.\u001b[0m\u001b[0mdebug\u001b[0m\u001b[1;33m(\u001b[0m\u001b[0mstr\u001b[0m\u001b[1;33m(\u001b[0m\u001b[0mlen\u001b[0m\u001b[1;33m(\u001b[0m\u001b[0mtriples\u001b[0m\u001b[1;33m)\u001b[0m\u001b[1;33m)\u001b[0m \u001b[1;33m+\u001b[0m \u001b[1;34m' triples generated for mapping rule `'\u001b[0m \u001b[1;33m+\u001b[0m \u001b[0mstr\u001b[0m\u001b[1;33m(\u001b[0m\u001b[0mmapping_rule\u001b[0m\u001b[1;33m[\u001b[0m\u001b[1;34m'id'\u001b[0m\u001b[1;33m]\u001b[0m\u001b[1;33m)\u001b[0m \u001b[1;33m+\u001b[0m \u001b[1;34m'`.'\u001b[0m\u001b[1;33m)\u001b[0m\u001b[1;33m\u001b[0m\u001b[1;33m\u001b[0m\u001b[0m\n",
      "\u001b[1;32mc:\\Users\\Pedro\\AppData\\Local\\Programs\\Python\\Python39\\lib\\site-packages\\morph_kgc\\materializer.py\u001b[0m in \u001b[0;36m_materialize_mapping_rule\u001b[1;34m(mapping_rule, subject_maps_df, config)\u001b[0m\n\u001b[0;32m    289\u001b[0m             \u001b[0mresult_chunks\u001b[0m \u001b[1;33m=\u001b[0m \u001b[0mget_sql_data\u001b[0m\u001b[1;33m(\u001b[0m\u001b[0mconfig\u001b[0m\u001b[1;33m,\u001b[0m \u001b[0mmapping_rule\u001b[0m\u001b[1;33m,\u001b[0m \u001b[0mreferences\u001b[0m\u001b[1;33m)\u001b[0m\u001b[1;33m\u001b[0m\u001b[1;33m\u001b[0m\u001b[0m\n\u001b[0;32m    290\u001b[0m         \u001b[1;32melif\u001b[0m \u001b[0mmapping_rule\u001b[0m\u001b[1;33m[\u001b[0m\u001b[1;34m'source_type'\u001b[0m\u001b[1;33m]\u001b[0m \u001b[1;32min\u001b[0m \u001b[0mFILE_SOURCE_TYPES\u001b[0m\u001b[1;33m:\u001b[0m\u001b[1;33m\u001b[0m\u001b[1;33m\u001b[0m\u001b[0m\n\u001b[1;32m--> 291\u001b[1;33m             \u001b[0mresult_chunks\u001b[0m \u001b[1;33m=\u001b[0m \u001b[0mget_file_data\u001b[0m\u001b[1;33m(\u001b[0m\u001b[0mconfig\u001b[0m\u001b[1;33m,\u001b[0m \u001b[0mmapping_rule\u001b[0m\u001b[1;33m,\u001b[0m \u001b[0mreferences\u001b[0m\u001b[1;33m)\u001b[0m\u001b[1;33m\u001b[0m\u001b[1;33m\u001b[0m\u001b[0m\n\u001b[0m\u001b[0;32m    292\u001b[0m \u001b[1;33m\u001b[0m\u001b[0m\n\u001b[0;32m    293\u001b[0m         \u001b[1;32mfor\u001b[0m \u001b[0mquery_results_chunk_df\u001b[0m \u001b[1;32min\u001b[0m \u001b[0mresult_chunks\u001b[0m\u001b[1;33m:\u001b[0m\u001b[1;33m\u001b[0m\u001b[1;33m\u001b[0m\u001b[0m\n",
      "\u001b[1;32mc:\\Users\\Pedro\\AppData\\Local\\Programs\\Python\\Python39\\lib\\site-packages\\morph_kgc\\data_source\\data_file.py\u001b[0m in \u001b[0;36mget_file_data\u001b[1;34m(config, mapping_rule, references)\u001b[0m\n\u001b[0;32m     28\u001b[0m         \u001b[1;32mreturn\u001b[0m \u001b[0m_read_excel\u001b[0m\u001b[1;33m(\u001b[0m\u001b[0mconfig\u001b[0m\u001b[1;33m,\u001b[0m \u001b[0mmapping_rule\u001b[0m\u001b[1;33m,\u001b[0m \u001b[0mreferences\u001b[0m\u001b[1;33m)\u001b[0m\u001b[1;33m\u001b[0m\u001b[1;33m\u001b[0m\u001b[0m\n\u001b[0;32m     29\u001b[0m     \u001b[1;32melif\u001b[0m \u001b[0mfile_source_type\u001b[0m \u001b[1;33m==\u001b[0m \u001b[0mPARQUET\u001b[0m\u001b[1;33m:\u001b[0m\u001b[1;33m\u001b[0m\u001b[1;33m\u001b[0m\u001b[0m\n\u001b[1;32m---> 30\u001b[1;33m         \u001b[1;32mreturn\u001b[0m \u001b[0m_read_parquet\u001b[0m\u001b[1;33m(\u001b[0m\u001b[0mmapping_rule\u001b[0m\u001b[1;33m,\u001b[0m \u001b[0mreferences\u001b[0m\u001b[1;33m)\u001b[0m\u001b[1;33m\u001b[0m\u001b[1;33m\u001b[0m\u001b[0m\n\u001b[0m\u001b[0;32m     31\u001b[0m     \u001b[1;32melif\u001b[0m \u001b[0mfile_source_type\u001b[0m \u001b[1;32min\u001b[0m \u001b[0mFEATHER\u001b[0m\u001b[1;33m:\u001b[0m\u001b[1;33m\u001b[0m\u001b[1;33m\u001b[0m\u001b[0m\n\u001b[0;32m     32\u001b[0m         \u001b[1;32mreturn\u001b[0m \u001b[0m_read_feather\u001b[0m\u001b[1;33m(\u001b[0m\u001b[0mmapping_rule\u001b[0m\u001b[1;33m,\u001b[0m \u001b[0mreferences\u001b[0m\u001b[1;33m)\u001b[0m\u001b[1;33m\u001b[0m\u001b[1;33m\u001b[0m\u001b[0m\n",
      "\u001b[1;32mc:\\Users\\Pedro\\AppData\\Local\\Programs\\Python\\Python39\\lib\\site-packages\\morph_kgc\\data_source\\data_file.py\u001b[0m in \u001b[0;36m_read_parquet\u001b[1;34m(mapping_rule, references)\u001b[0m\n\u001b[0;32m     65\u001b[0m \u001b[1;33m\u001b[0m\u001b[0m\n\u001b[0;32m     66\u001b[0m \u001b[1;32mdef\u001b[0m \u001b[0m_read_parquet\u001b[0m\u001b[1;33m(\u001b[0m\u001b[0mmapping_rule\u001b[0m\u001b[1;33m,\u001b[0m \u001b[0mreferences\u001b[0m\u001b[1;33m)\u001b[0m\u001b[1;33m:\u001b[0m\u001b[1;33m\u001b[0m\u001b[1;33m\u001b[0m\u001b[0m\n\u001b[1;32m---> 67\u001b[1;33m     parquet_df = pd.read_parquet(str(mapping_rule['data_source']),\n\u001b[0m\u001b[0;32m     68\u001b[0m                                  \u001b[0mengine\u001b[0m\u001b[1;33m=\u001b[0m\u001b[1;34m'pyarrow'\u001b[0m\u001b[1;33m,\u001b[0m\u001b[1;33m\u001b[0m\u001b[1;33m\u001b[0m\u001b[0m\n\u001b[0;32m     69\u001b[0m                                  columns=references)\n",
      "\u001b[1;32mc:\\Users\\Pedro\\AppData\\Local\\Programs\\Python\\Python39\\lib\\site-packages\\pandas\\io\\parquet.py\u001b[0m in \u001b[0;36mread_parquet\u001b[1;34m(path, engine, columns, storage_options, use_nullable_dtypes, **kwargs)\u001b[0m\n\u001b[0;32m    493\u001b[0m     \u001b[0mimpl\u001b[0m \u001b[1;33m=\u001b[0m \u001b[0mget_engine\u001b[0m\u001b[1;33m(\u001b[0m\u001b[0mengine\u001b[0m\u001b[1;33m)\u001b[0m\u001b[1;33m\u001b[0m\u001b[1;33m\u001b[0m\u001b[0m\n\u001b[0;32m    494\u001b[0m \u001b[1;33m\u001b[0m\u001b[0m\n\u001b[1;32m--> 495\u001b[1;33m     return impl.read(\n\u001b[0m\u001b[0;32m    496\u001b[0m         \u001b[0mpath\u001b[0m\u001b[1;33m,\u001b[0m\u001b[1;33m\u001b[0m\u001b[1;33m\u001b[0m\u001b[0m\n\u001b[0;32m    497\u001b[0m         \u001b[0mcolumns\u001b[0m\u001b[1;33m=\u001b[0m\u001b[0mcolumns\u001b[0m\u001b[1;33m,\u001b[0m\u001b[1;33m\u001b[0m\u001b[1;33m\u001b[0m\u001b[0m\n",
      "\u001b[1;32mc:\\Users\\Pedro\\AppData\\Local\\Programs\\Python\\Python39\\lib\\site-packages\\pandas\\io\\parquet.py\u001b[0m in \u001b[0;36mread\u001b[1;34m(self, path, columns, use_nullable_dtypes, storage_options, **kwargs)\u001b[0m\n\u001b[0;32m    237\u001b[0m         )\n\u001b[0;32m    238\u001b[0m         \u001b[1;32mtry\u001b[0m\u001b[1;33m:\u001b[0m\u001b[1;33m\u001b[0m\u001b[1;33m\u001b[0m\u001b[0m\n\u001b[1;32m--> 239\u001b[1;33m             result = self.api.parquet.read_table(\n\u001b[0m\u001b[0;32m    240\u001b[0m                 \u001b[0mpath_or_handle\u001b[0m\u001b[1;33m,\u001b[0m \u001b[0mcolumns\u001b[0m\u001b[1;33m=\u001b[0m\u001b[0mcolumns\u001b[0m\u001b[1;33m,\u001b[0m \u001b[1;33m**\u001b[0m\u001b[0mkwargs\u001b[0m\u001b[1;33m\u001b[0m\u001b[1;33m\u001b[0m\u001b[0m\n\u001b[0;32m    241\u001b[0m             ).to_pandas(**to_pandas_kwargs)\n",
      "\u001b[1;32mc:\\Users\\Pedro\\AppData\\Local\\Programs\\Python\\Python39\\lib\\site-packages\\pyarrow\\parquet.py\u001b[0m in \u001b[0;36mread_table\u001b[1;34m(source, columns, use_threads, metadata, use_pandas_metadata, memory_map, read_dictionary, filesystem, filters, buffer_size, partitioning, use_legacy_dataset, ignore_prefixes, pre_buffer, coerce_int96_timestamp_unit)\u001b[0m\n\u001b[0;32m   1994\u001b[0m             )\n\u001b[0;32m   1995\u001b[0m \u001b[1;33m\u001b[0m\u001b[0m\n\u001b[1;32m-> 1996\u001b[1;33m         return dataset.read(columns=columns, use_threads=use_threads,\n\u001b[0m\u001b[0;32m   1997\u001b[0m                             use_pandas_metadata=use_pandas_metadata)\n\u001b[0;32m   1998\u001b[0m \u001b[1;33m\u001b[0m\u001b[0m\n",
      "\u001b[1;32mc:\\Users\\Pedro\\AppData\\Local\\Programs\\Python\\Python39\\lib\\site-packages\\pyarrow\\parquet.py\u001b[0m in \u001b[0;36mread\u001b[1;34m(self, columns, use_threads, use_pandas_metadata)\u001b[0m\n\u001b[0;32m   1829\u001b[0m                 \u001b[0muse_threads\u001b[0m \u001b[1;33m=\u001b[0m \u001b[1;32mFalse\u001b[0m\u001b[1;33m\u001b[0m\u001b[1;33m\u001b[0m\u001b[0m\n\u001b[0;32m   1830\u001b[0m \u001b[1;33m\u001b[0m\u001b[0m\n\u001b[1;32m-> 1831\u001b[1;33m         table = self._dataset.to_table(\n\u001b[0m\u001b[0;32m   1832\u001b[0m             \u001b[0mcolumns\u001b[0m\u001b[1;33m=\u001b[0m\u001b[0mcolumns\u001b[0m\u001b[1;33m,\u001b[0m \u001b[0mfilter\u001b[0m\u001b[1;33m=\u001b[0m\u001b[0mself\u001b[0m\u001b[1;33m.\u001b[0m\u001b[0m_filter_expression\u001b[0m\u001b[1;33m,\u001b[0m\u001b[1;33m\u001b[0m\u001b[1;33m\u001b[0m\u001b[0m\n\u001b[0;32m   1833\u001b[0m             \u001b[0muse_threads\u001b[0m\u001b[1;33m=\u001b[0m\u001b[0muse_threads\u001b[0m\u001b[1;33m\u001b[0m\u001b[1;33m\u001b[0m\u001b[0m\n",
      "\u001b[1;32mc:\\Users\\Pedro\\AppData\\Local\\Programs\\Python\\Python39\\lib\\site-packages\\pyarrow\\_dataset.pyx\u001b[0m in \u001b[0;36mpyarrow._dataset.Dataset.to_table\u001b[1;34m()\u001b[0m\n",
      "\u001b[1;32mc:\\Users\\Pedro\\AppData\\Local\\Programs\\Python\\Python39\\lib\\site-packages\\pyarrow\\_dataset.pyx\u001b[0m in \u001b[0;36mpyarrow._dataset.Dataset.scanner\u001b[1;34m()\u001b[0m\n",
      "\u001b[1;32mc:\\Users\\Pedro\\AppData\\Local\\Programs\\Python\\Python39\\lib\\site-packages\\pyarrow\\_dataset.pyx\u001b[0m in \u001b[0;36mpyarrow._dataset.Scanner.from_dataset\u001b[1;34m()\u001b[0m\n",
      "\u001b[1;32mc:\\Users\\Pedro\\AppData\\Local\\Programs\\Python\\Python39\\lib\\site-packages\\pyarrow\\_dataset.pyx\u001b[0m in \u001b[0;36mpyarrow._dataset._populate_builder\u001b[1;34m()\u001b[0m\n",
      "\u001b[1;32mc:\\Users\\Pedro\\AppData\\Local\\Programs\\Python\\Python39\\lib\\site-packages\\pyarrow\\error.pxi\u001b[0m in \u001b[0;36mpyarrow.lib.check_status\u001b[1;34m()\u001b[0m\n",
      "\u001b[1;31mArrowInvalid\u001b[0m: No match for FieldRef.Name(awards/id) in summary: string\ntitle: string\nupdated: timestamp[us, tz=UTC]\nNúmero de Expediente: string\nEstado: string\nNombre: string\nUbicación orgánica: string\nObjeto del Contrato: string\nTipo de Contrato: double\nValor estimado del contrato: double\nPresupuesto base sin impuestos: double\nClasificación CPV: list<item: double>\nCódigo de Subentidad Nacional: string\nPlazo de Ejecución (Duración): double\nTipo de Procedimiento: double\nPresentación de Oferta (Fecha): string\nPresentación de Oferta (Hora): string\nTipo de Anuncio: list<item: string>\nMedio de Publicación: list<item: string>\nFecha de Publicación: list<item: string>\nPlazo de Ejecución (Comienzo): string\nPlazo de Ejecución (Fin): string\nContractFolderStatus - LocatedContractingParty - ParentLocatedParty - ParentLocatedParty - PartyName - Name: string\nPliego de cláusulas administrativas: string\nPliego de cláusulas administrativas (URI): string\nPliego de Prescripciones técnicas: string\nPliego de Prescripciones técnicas (URI): string\nResultado: list<item: double>\nNúmero de Licitadores Participantes: list<item: double>\nIdentificador (+ Tipo: mod schemeName): list<item: string>\nNombre del Adjudicatario: list<item: string>\nImporte total ofertado (sin impuestos): list<item: double>\nPresentación de Solicitudes (Fecha): string\nPresentación de Solicitudes (Hora): string\nURL perfil de contratante: string\nID: string\nLote: list<item: double>\nPresentación de Oferta: timestamp[us, tz=UTC]\nContractFolderStatus - LocatedContractingParty - ParentLocatedParty - ParentLocatedParty - ParentLocatedParty - PartyName - Name: string\ndomain: string\nfile name: string\nentry: string\ndeleted_on: timestamp[us, tz=+01:00]\n__index_level_0__: int64"
     ]
    }
   ],
   "source": [
    "import morph_kgc\n",
    "\n",
    "file_path = \"data/outsiders_2021.parquet\"\n",
    "rml = \"rml-mappings/mapping.ttl\"\n",
    "\n",
    "# configuration file\n",
    "config_morph = \"\"\"\n",
    "                            [DataSourcePARQUET]\n",
    "                            file_path=\"\"\" + file_path + \"\"\"\n",
    "                            mappings=\"\"\" + rml\n",
    "\n",
    "# generate the triples and load them to an RDFlib graph\n",
    "graph = morph_kgc.materialize(config_morph)\n",
    "# work with the graph\n",
    "#graph.serialize(destination='results/parquet.nt', format='nt')"
   ]
  },
  {
   "cell_type": "code",
   "execution_count": 5,
   "metadata": {},
   "outputs": [
    {
     "name": "stderr",
     "output_type": "stream",
     "text": [
      "INFO | 2022-06-23 10:17:48,200 | 256 mapping rules retrieved.\n",
      "INFO | 2022-06-23 10:17:48,254 | Mapping partition with 1 groups generated.\n",
      "INFO | 2022-06-23 10:17:48,255 | Maximum number of rules within mapping group: 256.\n",
      "INFO | 2022-06-23 10:17:48,262 | Mappings processed in 0.799 seconds.\n",
      "INFO | 2022-06-23 10:17:50,294 | Number of triples generated in total: 61.\n",
      "c:\\Users\\Pedro\\AppData\\Local\\Programs\\Python\\Python39\\lib\\site-packages\\rdflib\\plugins\\serializers\\nt.py:36: UserWarning: NTSerializer always uses UTF-8 encoding. Given encoding was: None\n",
      "  warnings.warn(\n"
     ]
    },
    {
     "data": {
      "text/plain": [
       "<Graph identifier=Nd8602e3bd87f4f769f42fe59406d6dd7 (<class 'rdflib.graph.Graph'>)>"
      ]
     },
     "execution_count": 5,
     "metadata": {},
     "output_type": "execute_result"
    }
   ],
   "source": [
    "import morph_kgc\n",
    "\n",
    "file_path = \"data/2019-01-01/ocds-0c46vo-0009-DN379620-1-tender-release.xml\"\n",
    "rml = \"rml-mappings/mapping.ttl\"\n",
    "\n",
    "# configuration file\n",
    "config_morph = \"\"\"\n",
    "            [DataSourceXML]\n",
    "            file_path=\"\"\" + file_path + \"\"\"\n",
    "            mappings=\"\"\" + rml\n",
    "\n",
    "# generate the triples and load them to an RDFlib graph\n",
    "graph = morph_kgc.materialize(config_morph)\n",
    "# work with the graph\n",
    "graph.serialize(destination='results/xml.nt', format='nt')"
   ]
  }
 ],
 "metadata": {
  "kernelspec": {
   "display_name": "Python 3.9.5 64-bit",
   "language": "python",
   "name": "python3"
  },
  "language_info": {
   "codemirror_mode": {
    "name": "ipython",
    "version": 3
   },
   "file_extension": ".py",
   "mimetype": "text/x-python",
   "name": "python",
   "nbconvert_exporter": "python",
   "pygments_lexer": "ipython3",
   "version": "3.9.5"
  },
  "orig_nbformat": 4,
  "vscode": {
   "interpreter": {
    "hash": "ecc01959a3fa6e370fa1785e6cca03f3405a3d40925e8097c2a14ac91635be9e"
   }
  }
 },
 "nbformat": 4,
 "nbformat_minor": 2
}
