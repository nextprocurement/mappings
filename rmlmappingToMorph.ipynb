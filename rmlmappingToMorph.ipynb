{
 "cells": [
  {
   "cell_type": "code",
   "execution_count": 66,
   "metadata": {},
   "outputs": [
    {
     "ename": "TypeError",
     "evalue": "timezone() argument 1 must be datetime.timedelta, not str",
     "output_type": "error",
     "traceback": [
      "\u001b[1;31m---------------------------------------------------------------------------\u001b[0m",
      "\u001b[1;31mTypeError\u001b[0m                                 Traceback (most recent call last)",
      "\u001b[1;32mc:\\Users\\mnavas\\CODE\\NextProcurement\\mappings\\rmlmappingToMorph.ipynb Celda 1\u001b[0m in \u001b[0;36mdatetimeNone\u001b[1;34m(x, y)\u001b[0m\n\u001b[0;32m     <a href='vscode-notebook-cell:/c%3A/Users/mnavas/CODE/NextProcurement/mappings/rmlmappingToMorph.ipynb#ch0000000?line=15'>16</a>\u001b[0m \u001b[39mtry\u001b[39;00m:\n\u001b[1;32m---> <a href='vscode-notebook-cell:/c%3A/Users/mnavas/CODE/NextProcurement/mappings/rmlmappingToMorph.ipynb#ch0000000?line=16'>17</a>\u001b[0m     z \u001b[39m=\u001b[39m x \u001b[39m+\u001b[39;49m \u001b[39m'\u001b[39;49m\u001b[39m \u001b[39;49m\u001b[39m'\u001b[39;49m \u001b[39m+\u001b[39;49m y \u001b[39m+\u001b[39m \u001b[39m'\u001b[39m\u001b[39m.000000+01:00\u001b[39m\u001b[39m'\u001b[39m\n\u001b[0;32m     <a href='vscode-notebook-cell:/c%3A/Users/mnavas/CODE/NextProcurement/mappings/rmlmappingToMorph.ipynb#ch0000000?line=17'>18</a>\u001b[0m     \u001b[39mreturn\u001b[39;00m datetime\u001b[39m.\u001b[39mdatetime\u001b[39m.\u001b[39mstrptime(z, \u001b[39m'\u001b[39m\u001b[39m%\u001b[39m\u001b[39mY-\u001b[39m\u001b[39m%\u001b[39m\u001b[39mm-\u001b[39m\u001b[39m%d\u001b[39;00m\u001b[39m \u001b[39m\u001b[39m%\u001b[39m\u001b[39mH:\u001b[39m\u001b[39m%\u001b[39m\u001b[39mM:\u001b[39m\u001b[39m%\u001b[39m\u001b[39mS\u001b[39m\u001b[39m'\u001b[39m)\u001b[39m.\u001b[39misoformat()\n",
      "\u001b[1;31mTypeError\u001b[0m: unsupported operand type(s) for +: 'NAType' and 'list'",
      "\nDuring handling of the above exception, another exception occurred:\n",
      "\u001b[1;31mTypeError\u001b[0m                                 Traceback (most recent call last)",
      "\u001b[1;32mc:\\Users\\mnavas\\CODE\\NextProcurement\\mappings\\rmlmappingToMorph.ipynb Celda 1\u001b[0m in \u001b[0;36m<cell line: 22>\u001b[1;34m()\u001b[0m\n\u001b[0;32m     <a href='vscode-notebook-cell:/c%3A/Users/mnavas/CODE/NextProcurement/mappings/rmlmappingToMorph.ipynb#ch0000000?line=18'>19</a>\u001b[0m     \u001b[39mexcept\u001b[39;00m (\u001b[39mTypeError\u001b[39;00m, \u001b[39mValueError\u001b[39;00m):\n\u001b[0;32m     <a href='vscode-notebook-cell:/c%3A/Users/mnavas/CODE/NextProcurement/mappings/rmlmappingToMorph.ipynb#ch0000000?line=19'>20</a>\u001b[0m         \u001b[39mreturn\u001b[39;00m datetime\u001b[39m.\u001b[39mdatetime(\u001b[39m1\u001b[39m,\u001b[39m1\u001b[39m,\u001b[39m1\u001b[39m,\u001b[39m0\u001b[39m,\u001b[39m0\u001b[39m,\u001b[39m0\u001b[39m,\u001b[39m0\u001b[39m,datetime\u001b[39m.\u001b[39mtimezone(\u001b[39m'\u001b[39m\u001b[39mEurope/Paris\u001b[39m\u001b[39m'\u001b[39m))\u001b[39m.\u001b[39misoformat()\n\u001b[1;32m---> <a href='vscode-notebook-cell:/c%3A/Users/mnavas/CODE/NextProcurement/mappings/rmlmappingToMorph.ipynb#ch0000000?line=21'>22</a>\u001b[0m df[\u001b[39m\"\u001b[39m\u001b[39mPresentación de Solicitudes (Fecha)\u001b[39m\u001b[39m\"\u001b[39m] \u001b[39m=\u001b[39m df\u001b[39m.\u001b[39;49mapply(\u001b[39mlambda\u001b[39;49;00m x: datetimeNone(x[\u001b[39m\"\u001b[39;49m\u001b[39mPresentación de Solicitudes (Fecha)\u001b[39;49m\u001b[39m\"\u001b[39;49m],[\u001b[39m\"\u001b[39;49m\u001b[39mPresentación de Solicitudes (Hora)\u001b[39;49m\u001b[39m\"\u001b[39;49m]), axis\u001b[39m=\u001b[39;49m\u001b[39m1\u001b[39;49m)\n\u001b[0;32m     <a href='vscode-notebook-cell:/c%3A/Users/mnavas/CODE/NextProcurement/mappings/rmlmappingToMorph.ipynb#ch0000000?line=25'>26</a>\u001b[0m \u001b[39m# Estado\u001b[39;00m\n\u001b[0;32m     <a href='vscode-notebook-cell:/c%3A/Users/mnavas/CODE/NextProcurement/mappings/rmlmappingToMorph.ipynb#ch0000000?line=26'>27</a>\u001b[0m \u001b[39m# estado = {'ANUL': \"cancelled\" , 2: 'services' , 3:'works' , 21: 'services' , 31:'works'}\u001b[39;00m\n\u001b[0;32m     <a href='vscode-notebook-cell:/c%3A/Users/mnavas/CODE/NextProcurement/mappings/rmlmappingToMorph.ipynb#ch0000000?line=27'>28</a>\u001b[0m \u001b[39m# df[\"Estado\"] = df[\"Estado\"].map(estado)\u001b[39;00m\n\u001b[1;32m   (...)\u001b[0m\n\u001b[0;32m     <a href='vscode-notebook-cell:/c%3A/Users/mnavas/CODE/NextProcurement/mappings/rmlmappingToMorph.ipynb#ch0000000?line=37'>38</a>\u001b[0m \u001b[39m#print(df[\"Tipo de Contrato\"])\u001b[39;00m\n\u001b[0;32m     <a href='vscode-notebook-cell:/c%3A/Users/mnavas/CODE/NextProcurement/mappings/rmlmappingToMorph.ipynb#ch0000000?line=38'>39</a>\u001b[0m \u001b[39m#print(df[\"Tipo de Contrato\"].unique())\u001b[39;00m\n\u001b[0;32m     <a href='vscode-notebook-cell:/c%3A/Users/mnavas/CODE/NextProcurement/mappings/rmlmappingToMorph.ipynb#ch0000000?line=41'>42</a>\u001b[0m table \u001b[39m=\u001b[39m pa\u001b[39m.\u001b[39mTable\u001b[39m.\u001b[39mfrom_pandas(df)\n",
      "File \u001b[1;32mc:\\Users\\mnavas\\AppData\\Local\\Programs\\Python\\Python310\\lib\\site-packages\\pandas\\core\\frame.py:8845\u001b[0m, in \u001b[0;36mDataFrame.apply\u001b[1;34m(self, func, axis, raw, result_type, args, **kwargs)\u001b[0m\n\u001b[0;32m   8834\u001b[0m \u001b[39mfrom\u001b[39;00m \u001b[39mpandas\u001b[39;00m\u001b[39m.\u001b[39;00m\u001b[39mcore\u001b[39;00m\u001b[39m.\u001b[39;00m\u001b[39mapply\u001b[39;00m \u001b[39mimport\u001b[39;00m frame_apply\n\u001b[0;32m   8836\u001b[0m op \u001b[39m=\u001b[39m frame_apply(\n\u001b[0;32m   8837\u001b[0m     \u001b[39mself\u001b[39m,\n\u001b[0;32m   8838\u001b[0m     func\u001b[39m=\u001b[39mfunc,\n\u001b[1;32m   (...)\u001b[0m\n\u001b[0;32m   8843\u001b[0m     kwargs\u001b[39m=\u001b[39mkwargs,\n\u001b[0;32m   8844\u001b[0m )\n\u001b[1;32m-> 8845\u001b[0m \u001b[39mreturn\u001b[39;00m op\u001b[39m.\u001b[39;49mapply()\u001b[39m.\u001b[39m__finalize__(\u001b[39mself\u001b[39m, method\u001b[39m=\u001b[39m\u001b[39m\"\u001b[39m\u001b[39mapply\u001b[39m\u001b[39m\"\u001b[39m)\n",
      "File \u001b[1;32mc:\\Users\\mnavas\\AppData\\Local\\Programs\\Python\\Python310\\lib\\site-packages\\pandas\\core\\apply.py:733\u001b[0m, in \u001b[0;36mFrameApply.apply\u001b[1;34m(self)\u001b[0m\n\u001b[0;32m    730\u001b[0m \u001b[39melif\u001b[39;00m \u001b[39mself\u001b[39m\u001b[39m.\u001b[39mraw:\n\u001b[0;32m    731\u001b[0m     \u001b[39mreturn\u001b[39;00m \u001b[39mself\u001b[39m\u001b[39m.\u001b[39mapply_raw()\n\u001b[1;32m--> 733\u001b[0m \u001b[39mreturn\u001b[39;00m \u001b[39mself\u001b[39;49m\u001b[39m.\u001b[39;49mapply_standard()\n",
      "File \u001b[1;32mc:\\Users\\mnavas\\AppData\\Local\\Programs\\Python\\Python310\\lib\\site-packages\\pandas\\core\\apply.py:857\u001b[0m, in \u001b[0;36mFrameApply.apply_standard\u001b[1;34m(self)\u001b[0m\n\u001b[0;32m    856\u001b[0m \u001b[39mdef\u001b[39;00m \u001b[39mapply_standard\u001b[39m(\u001b[39mself\u001b[39m):\n\u001b[1;32m--> 857\u001b[0m     results, res_index \u001b[39m=\u001b[39m \u001b[39mself\u001b[39;49m\u001b[39m.\u001b[39;49mapply_series_generator()\n\u001b[0;32m    859\u001b[0m     \u001b[39m# wrap results\u001b[39;00m\n\u001b[0;32m    860\u001b[0m     \u001b[39mreturn\u001b[39;00m \u001b[39mself\u001b[39m\u001b[39m.\u001b[39mwrap_results(results, res_index)\n",
      "File \u001b[1;32mc:\\Users\\mnavas\\AppData\\Local\\Programs\\Python\\Python310\\lib\\site-packages\\pandas\\core\\apply.py:873\u001b[0m, in \u001b[0;36mFrameApply.apply_series_generator\u001b[1;34m(self)\u001b[0m\n\u001b[0;32m    870\u001b[0m \u001b[39mwith\u001b[39;00m option_context(\u001b[39m\"\u001b[39m\u001b[39mmode.chained_assignment\u001b[39m\u001b[39m\"\u001b[39m, \u001b[39mNone\u001b[39;00m):\n\u001b[0;32m    871\u001b[0m     \u001b[39mfor\u001b[39;00m i, v \u001b[39min\u001b[39;00m \u001b[39menumerate\u001b[39m(series_gen):\n\u001b[0;32m    872\u001b[0m         \u001b[39m# ignore SettingWithCopy here in case the user mutates\u001b[39;00m\n\u001b[1;32m--> 873\u001b[0m         results[i] \u001b[39m=\u001b[39m \u001b[39mself\u001b[39;49m\u001b[39m.\u001b[39;49mf(v)\n\u001b[0;32m    874\u001b[0m         \u001b[39mif\u001b[39;00m \u001b[39misinstance\u001b[39m(results[i], ABCSeries):\n\u001b[0;32m    875\u001b[0m             \u001b[39m# If we have a view on v, we need to make a copy because\u001b[39;00m\n\u001b[0;32m    876\u001b[0m             \u001b[39m#  series_generator will swap out the underlying data\u001b[39;00m\n\u001b[0;32m    877\u001b[0m             results[i] \u001b[39m=\u001b[39m results[i]\u001b[39m.\u001b[39mcopy(deep\u001b[39m=\u001b[39m\u001b[39mFalse\u001b[39;00m)\n",
      "\u001b[1;32mc:\\Users\\mnavas\\CODE\\NextProcurement\\mappings\\rmlmappingToMorph.ipynb Celda 1\u001b[0m in \u001b[0;36m<lambda>\u001b[1;34m(x)\u001b[0m\n\u001b[0;32m     <a href='vscode-notebook-cell:/c%3A/Users/mnavas/CODE/NextProcurement/mappings/rmlmappingToMorph.ipynb#ch0000000?line=18'>19</a>\u001b[0m     \u001b[39mexcept\u001b[39;00m (\u001b[39mTypeError\u001b[39;00m, \u001b[39mValueError\u001b[39;00m):\n\u001b[0;32m     <a href='vscode-notebook-cell:/c%3A/Users/mnavas/CODE/NextProcurement/mappings/rmlmappingToMorph.ipynb#ch0000000?line=19'>20</a>\u001b[0m         \u001b[39mreturn\u001b[39;00m datetime\u001b[39m.\u001b[39mdatetime(\u001b[39m1\u001b[39m,\u001b[39m1\u001b[39m,\u001b[39m1\u001b[39m,\u001b[39m0\u001b[39m,\u001b[39m0\u001b[39m,\u001b[39m0\u001b[39m,\u001b[39m0\u001b[39m,datetime\u001b[39m.\u001b[39mtimezone(\u001b[39m'\u001b[39m\u001b[39mEurope/Paris\u001b[39m\u001b[39m'\u001b[39m))\u001b[39m.\u001b[39misoformat()\n\u001b[1;32m---> <a href='vscode-notebook-cell:/c%3A/Users/mnavas/CODE/NextProcurement/mappings/rmlmappingToMorph.ipynb#ch0000000?line=21'>22</a>\u001b[0m df[\u001b[39m\"\u001b[39m\u001b[39mPresentación de Solicitudes (Fecha)\u001b[39m\u001b[39m\"\u001b[39m] \u001b[39m=\u001b[39m df\u001b[39m.\u001b[39mapply(\u001b[39mlambda\u001b[39;00m x: datetimeNone(x[\u001b[39m\"\u001b[39;49m\u001b[39mPresentación de Solicitudes (Fecha)\u001b[39;49m\u001b[39m\"\u001b[39;49m],[\u001b[39m\"\u001b[39;49m\u001b[39mPresentación de Solicitudes (Hora)\u001b[39;49m\u001b[39m\"\u001b[39;49m]), axis\u001b[39m=\u001b[39m\u001b[39m1\u001b[39m)\n\u001b[0;32m     <a href='vscode-notebook-cell:/c%3A/Users/mnavas/CODE/NextProcurement/mappings/rmlmappingToMorph.ipynb#ch0000000?line=25'>26</a>\u001b[0m \u001b[39m# Estado\u001b[39;00m\n\u001b[0;32m     <a href='vscode-notebook-cell:/c%3A/Users/mnavas/CODE/NextProcurement/mappings/rmlmappingToMorph.ipynb#ch0000000?line=26'>27</a>\u001b[0m \u001b[39m# estado = {'ANUL': \"cancelled\" , 2: 'services' , 3:'works' , 21: 'services' , 31:'works'}\u001b[39;00m\n\u001b[0;32m     <a href='vscode-notebook-cell:/c%3A/Users/mnavas/CODE/NextProcurement/mappings/rmlmappingToMorph.ipynb#ch0000000?line=27'>28</a>\u001b[0m \u001b[39m# df[\"Estado\"] = df[\"Estado\"].map(estado)\u001b[39;00m\n\u001b[1;32m   (...)\u001b[0m\n\u001b[0;32m     <a href='vscode-notebook-cell:/c%3A/Users/mnavas/CODE/NextProcurement/mappings/rmlmappingToMorph.ipynb#ch0000000?line=37'>38</a>\u001b[0m \u001b[39m#print(df[\"Tipo de Contrato\"])\u001b[39;00m\n\u001b[0;32m     <a href='vscode-notebook-cell:/c%3A/Users/mnavas/CODE/NextProcurement/mappings/rmlmappingToMorph.ipynb#ch0000000?line=38'>39</a>\u001b[0m \u001b[39m#print(df[\"Tipo de Contrato\"].unique())\u001b[39;00m\n\u001b[0;32m     <a href='vscode-notebook-cell:/c%3A/Users/mnavas/CODE/NextProcurement/mappings/rmlmappingToMorph.ipynb#ch0000000?line=41'>42</a>\u001b[0m table \u001b[39m=\u001b[39m pa\u001b[39m.\u001b[39mTable\u001b[39m.\u001b[39mfrom_pandas(df)\n",
      "\u001b[1;32mc:\\Users\\mnavas\\CODE\\NextProcurement\\mappings\\rmlmappingToMorph.ipynb Celda 1\u001b[0m in \u001b[0;36mdatetimeNone\u001b[1;34m(x, y)\u001b[0m\n\u001b[0;32m     <a href='vscode-notebook-cell:/c%3A/Users/mnavas/CODE/NextProcurement/mappings/rmlmappingToMorph.ipynb#ch0000000?line=17'>18</a>\u001b[0m     \u001b[39mreturn\u001b[39;00m datetime\u001b[39m.\u001b[39mdatetime\u001b[39m.\u001b[39mstrptime(z, \u001b[39m'\u001b[39m\u001b[39m%\u001b[39m\u001b[39mY-\u001b[39m\u001b[39m%\u001b[39m\u001b[39mm-\u001b[39m\u001b[39m%d\u001b[39;00m\u001b[39m \u001b[39m\u001b[39m%\u001b[39m\u001b[39mH:\u001b[39m\u001b[39m%\u001b[39m\u001b[39mM:\u001b[39m\u001b[39m%\u001b[39m\u001b[39mS\u001b[39m\u001b[39m'\u001b[39m)\u001b[39m.\u001b[39misoformat()\n\u001b[0;32m     <a href='vscode-notebook-cell:/c%3A/Users/mnavas/CODE/NextProcurement/mappings/rmlmappingToMorph.ipynb#ch0000000?line=18'>19</a>\u001b[0m \u001b[39mexcept\u001b[39;00m (\u001b[39mTypeError\u001b[39;00m, \u001b[39mValueError\u001b[39;00m):\n\u001b[1;32m---> <a href='vscode-notebook-cell:/c%3A/Users/mnavas/CODE/NextProcurement/mappings/rmlmappingToMorph.ipynb#ch0000000?line=19'>20</a>\u001b[0m     \u001b[39mreturn\u001b[39;00m datetime\u001b[39m.\u001b[39mdatetime(\u001b[39m1\u001b[39m,\u001b[39m1\u001b[39m,\u001b[39m1\u001b[39m,\u001b[39m0\u001b[39m,\u001b[39m0\u001b[39m,\u001b[39m0\u001b[39m,\u001b[39m0\u001b[39m,datetime\u001b[39m.\u001b[39;49mtimezone(\u001b[39m'\u001b[39;49m\u001b[39mEurope/Paris\u001b[39;49m\u001b[39m'\u001b[39;49m))\u001b[39m.\u001b[39misoformat()\n",
      "\u001b[1;31mTypeError\u001b[0m: timezone() argument 1 must be datetime.timedelta, not str"
     ]
    }
   ],
   "source": [
    "import morph_kgc\n",
    "import pandas as pd\n",
    "import pyarrow as pa\n",
    "import pyarrow.parquet as pq\n",
    "import datetime\n",
    "from rdflib.plugin import register, Serializer, Parser\n",
    "\n",
    "# We preprocess the data\n",
    "df = pd.read_parquet('data/outsiders_2021.parquet', engine='pyarrow')\n",
    "\n",
    "# Tipo de Contrato\n",
    "tipos_contrato = {1: 'goods' , 2: 'services' , 3:'works' , 21: 'services' , 31:'works'}\n",
    "df[\"Tipo de Contrato\"] = df[\"Tipo de Contrato\"].map(tipos_contrato)\n",
    "\n",
    "def datetimeNone(x,y):\n",
    "    try:\n",
    "        z = x + ' ' + y\n",
    "        datetime.datetime.strptime(z, '%Y-%m-%d %H:%M:%S')\n",
    "        return z + '.000000+01:00'\n",
    "    except (TypeError, ValueError):\n",
    "        return '1111-11-11T11:11:11.111111+01:00'\n",
    "    \n",
    "df[\"Presentación de Solicitudes (Fecha)\"] = df.apply(lambda x: datetimeNone(x[\"Presentación de Solicitudes (Fecha)\"],[\"Presentación de Solicitudes (Hora)\"]), axis=1)\n",
    "print(df[\"Presentación de Solicitudes (Fecha)\"].unique())\n",
    "\n",
    "\n",
    "# Estado\n",
    "# estado = {'ANUL': \"cancelled\" , 2: 'services' , 3:'works' , 21: 'services' , 31:'works'}\n",
    "# df[\"Estado\"] = df[\"Estado\"].map(estado)\n",
    "# print(df[\"Estado\"].unique())\n",
    "\n",
    "# Resultado\n",
    "# resultado = {'ANUL': \"cancelled\" , 2: 'services' , 3:'works' , 21: 'services' , 31:'works'}\n",
    "# df[\"Resultado\"] = df[\"Estado\"].map(resultado)\n",
    "# print(df[\"Resultado\"].unique())\n",
    "\n",
    "\n",
    "\n",
    "#print(df[\"Tipo de Contrato\"])\n",
    "#print(df[\"Tipo de Contrato\"].unique())\n",
    "\n",
    "\n",
    "table = pa.Table.from_pandas(df)\n",
    "pq.write_table(table, 'data/output.parquet')"
   ]
  },
  {
   "cell_type": "code",
   "execution_count": 60,
   "metadata": {},
   "outputs": [
    {
     "name": "stderr",
     "output_type": "stream",
     "text": [
      "INFO | 2022-07-14 13:25:45,886 | 35 mapping rules retrieved.\n",
      "INFO | 2022-07-14 13:25:45,960 | Mapping partition with 26 groups generated.\n",
      "INFO | 2022-07-14 13:25:45,967 | Maximum number of rules within mapping group: 2.\n",
      "INFO | 2022-07-14 13:25:45,986 | Mappings processed in 1.527 seconds.\n"
     ]
    },
    {
     "ename": "ArrowInvalid",
     "evalue": "Casting from timestamp[us] to timestamp[ns] would result in out of bounds timestamp: -62135596800000000",
     "output_type": "error",
     "traceback": [
      "\u001b[1;31m---------------------------------------------------------------------------\u001b[0m",
      "\u001b[1;31mArrowInvalid\u001b[0m                              Traceback (most recent call last)",
      "\u001b[1;32mc:\\Users\\mnavas\\CODE\\NextProcurement\\mappings\\rmlmappingToMorph.ipynb Celda 2\u001b[0m in \u001b[0;36m<cell line: 14>\u001b[1;34m()\u001b[0m\n\u001b[0;32m      <a href='vscode-notebook-cell:/c%3A/Users/mnavas/CODE/NextProcurement/mappings/rmlmappingToMorph.ipynb#ch0000001?line=7'>8</a>\u001b[0m config_morph \u001b[39m=\u001b[39m \u001b[39m\"\"\"\u001b[39m\n\u001b[0;32m      <a href='vscode-notebook-cell:/c%3A/Users/mnavas/CODE/NextProcurement/mappings/rmlmappingToMorph.ipynb#ch0000001?line=8'>9</a>\u001b[0m \u001b[39m                            [DataSource1]\u001b[39m\n\u001b[0;32m     <a href='vscode-notebook-cell:/c%3A/Users/mnavas/CODE/NextProcurement/mappings/rmlmappingToMorph.ipynb#ch0000001?line=9'>10</a>\u001b[0m \u001b[39m                            file_path=\u001b[39m\u001b[39m\"\"\"\u001b[39m \u001b[39m+\u001b[39m file_path \u001b[39m+\u001b[39m \u001b[39m\"\"\"\u001b[39m\n\u001b[0;32m     <a href='vscode-notebook-cell:/c%3A/Users/mnavas/CODE/NextProcurement/mappings/rmlmappingToMorph.ipynb#ch0000001?line=10'>11</a>\u001b[0m \u001b[39m                            mappings=\u001b[39m\u001b[39m\"\"\"\u001b[39m \u001b[39m+\u001b[39m rml\n\u001b[0;32m     <a href='vscode-notebook-cell:/c%3A/Users/mnavas/CODE/NextProcurement/mappings/rmlmappingToMorph.ipynb#ch0000001?line=12'>13</a>\u001b[0m \u001b[39m# generate the triples and load them to an RDFlib graph\u001b[39;00m\n\u001b[1;32m---> <a href='vscode-notebook-cell:/c%3A/Users/mnavas/CODE/NextProcurement/mappings/rmlmappingToMorph.ipynb#ch0000001?line=13'>14</a>\u001b[0m graph \u001b[39m=\u001b[39m morph_kgc\u001b[39m.\u001b[39;49mmaterialize(config_morph)\n\u001b[0;32m     <a href='vscode-notebook-cell:/c%3A/Users/mnavas/CODE/NextProcurement/mappings/rmlmappingToMorph.ipynb#ch0000001?line=14'>15</a>\u001b[0m \u001b[39m# work with the graph\u001b[39;00m\n\u001b[0;32m     <a href='vscode-notebook-cell:/c%3A/Users/mnavas/CODE/NextProcurement/mappings/rmlmappingToMorph.ipynb#ch0000001?line=15'>16</a>\u001b[0m graph\u001b[39m.\u001b[39mserialize(destination\u001b[39m=\u001b[39m\u001b[39m'\u001b[39m\u001b[39mresults/parquet.nt\u001b[39m\u001b[39m'\u001b[39m, \u001b[39mformat\u001b[39m\u001b[39m=\u001b[39m\u001b[39m'\u001b[39m\u001b[39mnt\u001b[39m\u001b[39m'\u001b[39m)\n",
      "File \u001b[1;32mc:\\Users\\mnavas\\AppData\\Local\\Programs\\Python\\Python310\\lib\\site-packages\\morph_kgc\\__init__.py:38\u001b[0m, in \u001b[0;36mmaterialize\u001b[1;34m(config)\u001b[0m\n\u001b[0;32m     36\u001b[0m triples \u001b[39m=\u001b[39m \u001b[39mset\u001b[39m()\n\u001b[0;32m     37\u001b[0m \u001b[39mfor\u001b[39;00m i, mapping_rule \u001b[39min\u001b[39;00m mapping_partition\u001b[39m.\u001b[39miterrows():\n\u001b[1;32m---> 38\u001b[0m     results_df \u001b[39m=\u001b[39m _materialize_mapping_rule(mapping_rule, mappings_df, config)\n\u001b[0;32m     39\u001b[0m     triples\u001b[39m.\u001b[39mupdate(\u001b[39mset\u001b[39m(results_df[\u001b[39m'\u001b[39m\u001b[39mtriple\u001b[39m\u001b[39m'\u001b[39m]))\n\u001b[0;32m     41\u001b[0m     logging\u001b[39m.\u001b[39mdebug(\u001b[39mstr\u001b[39m(\u001b[39mlen\u001b[39m(triples)) \u001b[39m+\u001b[39m \u001b[39m'\u001b[39m\u001b[39m triples generated for mapping rule `\u001b[39m\u001b[39m'\u001b[39m \u001b[39m+\u001b[39m \u001b[39mstr\u001b[39m(mapping_rule[\u001b[39m'\u001b[39m\u001b[39mid\u001b[39m\u001b[39m'\u001b[39m]) \u001b[39m+\u001b[39m \u001b[39m'\u001b[39m\u001b[39m`.\u001b[39m\u001b[39m'\u001b[39m)\n",
      "File \u001b[1;32mc:\\Users\\mnavas\\AppData\\Local\\Programs\\Python\\Python310\\lib\\site-packages\\morph_kgc\\materializer.py:341\u001b[0m, in \u001b[0;36m_materialize_mapping_rule\u001b[1;34m(mapping_rule, mappings_df, config, data, parent_join_references, nest_level)\u001b[0m\n\u001b[0;32m    339\u001b[0m \u001b[39melse\u001b[39;00m:\n\u001b[0;32m    340\u001b[0m     \u001b[39mif\u001b[39;00m data \u001b[39mis\u001b[39;00m \u001b[39mNone\u001b[39;00m:\n\u001b[1;32m--> 341\u001b[0m         data \u001b[39m=\u001b[39m _get_data(config, mapping_rule, references)\n\u001b[0;32m    342\u001b[0m     data \u001b[39m=\u001b[39m _materialize_mapping_rule_terms(data, mapping_rule, config)\n\u001b[0;32m    344\u001b[0m \u001b[39m# TODO: this is slow reduce the number of vectorized operations\u001b[39;00m\n",
      "File \u001b[1;32mc:\\Users\\mnavas\\AppData\\Local\\Programs\\Python\\Python310\\lib\\site-packages\\morph_kgc\\materializer.py:67\u001b[0m, in \u001b[0;36m_get_data\u001b[1;34m(config, mapping_rule, references)\u001b[0m\n\u001b[0;32m     65\u001b[0m     data \u001b[39m=\u001b[39m get_sql_data(config, mapping_rule, references)\n\u001b[0;32m     66\u001b[0m \u001b[39melif\u001b[39;00m mapping_rule[\u001b[39m'\u001b[39m\u001b[39msource_type\u001b[39m\u001b[39m'\u001b[39m] \u001b[39min\u001b[39;00m FILE_SOURCE_TYPES:\n\u001b[1;32m---> 67\u001b[0m     data \u001b[39m=\u001b[39m get_file_data(mapping_rule, references)\n\u001b[0;32m     69\u001b[0m data \u001b[39m=\u001b[39m _preprocess_data(data, mapping_rule, references, config)\n\u001b[0;32m     71\u001b[0m \u001b[39mreturn\u001b[39;00m data\n",
      "File \u001b[1;32mc:\\Users\\mnavas\\AppData\\Local\\Programs\\Python\\Python310\\lib\\site-packages\\morph_kgc\\data_source\\data_file.py:35\u001b[0m, in \u001b[0;36mget_file_data\u001b[1;34m(mapping_rule, references)\u001b[0m\n\u001b[0;32m     33\u001b[0m     \u001b[39mreturn\u001b[39;00m _read_ods(mapping_rule, references)\n\u001b[0;32m     34\u001b[0m \u001b[39melif\u001b[39;00m file_source_type \u001b[39m==\u001b[39m PARQUET:\n\u001b[1;32m---> 35\u001b[0m     \u001b[39mreturn\u001b[39;00m _read_parquet(mapping_rule, references)\n\u001b[0;32m     36\u001b[0m \u001b[39melif\u001b[39;00m file_source_type \u001b[39min\u001b[39;00m FEATHER:\n\u001b[0;32m     37\u001b[0m     \u001b[39mreturn\u001b[39;00m _read_feather(mapping_rule, references)\n",
      "File \u001b[1;32mc:\\Users\\mnavas\\AppData\\Local\\Programs\\Python\\Python310\\lib\\site-packages\\morph_kgc\\data_source\\data_file.py:70\u001b[0m, in \u001b[0;36m_read_parquet\u001b[1;34m(mapping_rule, references)\u001b[0m\n\u001b[0;32m     69\u001b[0m \u001b[39mdef\u001b[39;00m \u001b[39m_read_parquet\u001b[39m(mapping_rule, references):\n\u001b[1;32m---> 70\u001b[0m     \u001b[39mreturn\u001b[39;00m pd\u001b[39m.\u001b[39;49mread_parquet(mapping_rule[\u001b[39m'\u001b[39;49m\u001b[39mdata_source\u001b[39;49m\u001b[39m'\u001b[39;49m], engine\u001b[39m=\u001b[39;49m\u001b[39m'\u001b[39;49m\u001b[39mpyarrow\u001b[39;49m\u001b[39m'\u001b[39;49m, columns\u001b[39m=\u001b[39;49mreferences)\n",
      "File \u001b[1;32mc:\\Users\\mnavas\\AppData\\Local\\Programs\\Python\\Python310\\lib\\site-packages\\pandas\\io\\parquet.py:493\u001b[0m, in \u001b[0;36mread_parquet\u001b[1;34m(path, engine, columns, storage_options, use_nullable_dtypes, **kwargs)\u001b[0m\n\u001b[0;32m    446\u001b[0m \u001b[39m\"\"\"\u001b[39;00m\n\u001b[0;32m    447\u001b[0m \u001b[39mLoad a parquet object from the file path, returning a DataFrame.\u001b[39;00m\n\u001b[0;32m    448\u001b[0m \n\u001b[1;32m   (...)\u001b[0m\n\u001b[0;32m    489\u001b[0m \u001b[39mDataFrame\u001b[39;00m\n\u001b[0;32m    490\u001b[0m \u001b[39m\"\"\"\u001b[39;00m\n\u001b[0;32m    491\u001b[0m impl \u001b[39m=\u001b[39m get_engine(engine)\n\u001b[1;32m--> 493\u001b[0m \u001b[39mreturn\u001b[39;00m impl\u001b[39m.\u001b[39mread(\n\u001b[0;32m    494\u001b[0m     path,\n\u001b[0;32m    495\u001b[0m     columns\u001b[39m=\u001b[39mcolumns,\n\u001b[0;32m    496\u001b[0m     storage_options\u001b[39m=\u001b[39mstorage_options,\n\u001b[0;32m    497\u001b[0m     use_nullable_dtypes\u001b[39m=\u001b[39muse_nullable_dtypes,\n\u001b[0;32m    498\u001b[0m     \u001b[39m*\u001b[39m\u001b[39m*\u001b[39mkwargs,\n\u001b[0;32m    499\u001b[0m )\n",
      "File \u001b[1;32mc:\\Users\\mnavas\\AppData\\Local\\Programs\\Python\\Python310\\lib\\site-packages\\pandas\\io\\parquet.py:240\u001b[0m, in \u001b[0;36mPyArrowImpl.read\u001b[1;34m(self, path, columns, use_nullable_dtypes, storage_options, **kwargs)\u001b[0m\n\u001b[0;32m    233\u001b[0m path_or_handle, handles, kwargs[\u001b[39m\"\u001b[39m\u001b[39mfilesystem\u001b[39m\u001b[39m\"\u001b[39m] \u001b[39m=\u001b[39m _get_path_or_handle(\n\u001b[0;32m    234\u001b[0m     path,\n\u001b[0;32m    235\u001b[0m     kwargs\u001b[39m.\u001b[39mpop(\u001b[39m\"\u001b[39m\u001b[39mfilesystem\u001b[39m\u001b[39m\"\u001b[39m, \u001b[39mNone\u001b[39;00m),\n\u001b[0;32m    236\u001b[0m     storage_options\u001b[39m=\u001b[39mstorage_options,\n\u001b[0;32m    237\u001b[0m     mode\u001b[39m=\u001b[39m\u001b[39m\"\u001b[39m\u001b[39mrb\u001b[39m\u001b[39m\"\u001b[39m,\n\u001b[0;32m    238\u001b[0m )\n\u001b[0;32m    239\u001b[0m \u001b[39mtry\u001b[39;00m:\n\u001b[1;32m--> 240\u001b[0m     result \u001b[39m=\u001b[39m \u001b[39mself\u001b[39m\u001b[39m.\u001b[39mapi\u001b[39m.\u001b[39mparquet\u001b[39m.\u001b[39mread_table(\n\u001b[0;32m    241\u001b[0m         path_or_handle, columns\u001b[39m=\u001b[39mcolumns, \u001b[39m*\u001b[39m\u001b[39m*\u001b[39mkwargs\n\u001b[0;32m    242\u001b[0m     )\u001b[39m.\u001b[39mto_pandas(\u001b[39m*\u001b[39m\u001b[39m*\u001b[39mto_pandas_kwargs)\n\u001b[0;32m    243\u001b[0m     \u001b[39mif\u001b[39;00m manager \u001b[39m==\u001b[39m \u001b[39m\"\u001b[39m\u001b[39marray\u001b[39m\u001b[39m\"\u001b[39m:\n\u001b[0;32m    244\u001b[0m         result \u001b[39m=\u001b[39m result\u001b[39m.\u001b[39m_as_manager(\u001b[39m\"\u001b[39m\u001b[39marray\u001b[39m\u001b[39m\"\u001b[39m, copy\u001b[39m=\u001b[39m\u001b[39mFalse\u001b[39;00m)\n",
      "File \u001b[1;32mc:\\Users\\mnavas\\AppData\\Local\\Programs\\Python\\Python310\\lib\\site-packages\\pyarrow\\array.pxi:822\u001b[0m, in \u001b[0;36mpyarrow.lib._PandasConvertible.to_pandas\u001b[1;34m()\u001b[0m\n",
      "File \u001b[1;32mc:\\Users\\mnavas\\AppData\\Local\\Programs\\Python\\Python310\\lib\\site-packages\\pyarrow\\table.pxi:3889\u001b[0m, in \u001b[0;36mpyarrow.lib.Table._to_pandas\u001b[1;34m()\u001b[0m\n",
      "File \u001b[1;32mc:\\Users\\mnavas\\AppData\\Local\\Programs\\Python\\Python310\\lib\\site-packages\\pyarrow\\pandas_compat.py:803\u001b[0m, in \u001b[0;36mtable_to_blockmanager\u001b[1;34m(options, table, categories, ignore_metadata, types_mapper)\u001b[0m\n\u001b[0;32m    801\u001b[0m _check_data_column_metadata_consistency(all_columns)\n\u001b[0;32m    802\u001b[0m columns \u001b[39m=\u001b[39m _deserialize_column_index(table, all_columns, column_indexes)\n\u001b[1;32m--> 803\u001b[0m blocks \u001b[39m=\u001b[39m _table_to_blocks(options, table, categories, ext_columns_dtypes)\n\u001b[0;32m    805\u001b[0m axes \u001b[39m=\u001b[39m [columns, index]\n\u001b[0;32m    806\u001b[0m \u001b[39mreturn\u001b[39;00m BlockManager(blocks, axes)\n",
      "File \u001b[1;32mc:\\Users\\mnavas\\AppData\\Local\\Programs\\Python\\Python310\\lib\\site-packages\\pyarrow\\pandas_compat.py:1153\u001b[0m, in \u001b[0;36m_table_to_blocks\u001b[1;34m(options, block_table, categories, extension_columns)\u001b[0m\n\u001b[0;32m   1148\u001b[0m \u001b[39mdef\u001b[39;00m \u001b[39m_table_to_blocks\u001b[39m(options, block_table, categories, extension_columns):\n\u001b[0;32m   1149\u001b[0m     \u001b[39m# Part of table_to_blockmanager\u001b[39;00m\n\u001b[0;32m   1150\u001b[0m \n\u001b[0;32m   1151\u001b[0m     \u001b[39m# Convert an arrow table to Block from the internal pandas API\u001b[39;00m\n\u001b[0;32m   1152\u001b[0m     columns \u001b[39m=\u001b[39m block_table\u001b[39m.\u001b[39mcolumn_names\n\u001b[1;32m-> 1153\u001b[0m     result \u001b[39m=\u001b[39m pa\u001b[39m.\u001b[39;49mlib\u001b[39m.\u001b[39;49mtable_to_blocks(options, block_table, categories,\n\u001b[0;32m   1154\u001b[0m                                     \u001b[39mlist\u001b[39;49m(extension_columns\u001b[39m.\u001b[39;49mkeys()))\n\u001b[0;32m   1155\u001b[0m     \u001b[39mreturn\u001b[39;00m [_reconstruct_block(item, columns, extension_columns)\n\u001b[0;32m   1156\u001b[0m             \u001b[39mfor\u001b[39;00m item \u001b[39min\u001b[39;00m result]\n",
      "File \u001b[1;32mc:\\Users\\mnavas\\AppData\\Local\\Programs\\Python\\Python310\\lib\\site-packages\\pyarrow\\table.pxi:2602\u001b[0m, in \u001b[0;36mpyarrow.lib.table_to_blocks\u001b[1;34m()\u001b[0m\n",
      "File \u001b[1;32mc:\\Users\\mnavas\\AppData\\Local\\Programs\\Python\\Python310\\lib\\site-packages\\pyarrow\\error.pxi:100\u001b[0m, in \u001b[0;36mpyarrow.lib.check_status\u001b[1;34m()\u001b[0m\n",
      "\u001b[1;31mArrowInvalid\u001b[0m: Casting from timestamp[us] to timestamp[ns] would result in out of bounds timestamp: -62135596800000000"
     ]
    }
   ],
   "source": [
    "file_path = \"data/output.parquet\"\n",
    "#file_path = \"data/2019-01-01/ocds-0c46vo-0009-DN379620-1-tender-release.xml\"\n",
    "rml = \"rml-mappings/mappingOCDS.rml.ttl\"\n",
    "#rml = \"rml-mappings/mapping.ttl\"\n",
    "\n",
    "\n",
    "# configuration file\n",
    "config_morph = \"\"\"\n",
    "                            [DataSource1]\n",
    "                            file_path=\"\"\" + file_path + \"\"\"\n",
    "                            mappings=\"\"\" + rml\n",
    "\n",
    "# generate the triples and load them to an RDFlib graph\n",
    "graph = morph_kgc.materialize(config_morph)\n",
    "# work with the graph\n",
    "graph.serialize(destination='results/parquet.nt', format='nt')"
   ]
  }
 ],
 "metadata": {
  "kernelspec": {
   "display_name": "Python 3.10.5 64-bit",
   "language": "python",
   "name": "python3"
  },
  "language_info": {
   "codemirror_mode": {
    "name": "ipython",
    "version": 3
   },
   "file_extension": ".py",
   "mimetype": "text/x-python",
   "name": "python",
   "nbconvert_exporter": "python",
   "pygments_lexer": "ipython3",
   "version": "3.10.5"
  },
  "orig_nbformat": 4,
  "vscode": {
   "interpreter": {
    "hash": "cb77e85e60cc9478e8cf715047cdbf77fb5c1d504795081bb2dadf13f33333e1"
   }
  }
 },
 "nbformat": 4,
 "nbformat_minor": 2
}
