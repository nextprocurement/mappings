{
 "cells": [
  {
   "cell_type": "code",
   "execution_count": 17,
   "metadata": {},
   "outputs": [
    {
     "ename": "KeyError",
     "evalue": "'source_type'",
     "output_type": "error",
     "traceback": [
      "\u001b[1;31m---------------------------------------------------------------------------\u001b[0m",
      "\u001b[1;31mKeyError\u001b[0m                                  Traceback (most recent call last)",
      "File \u001b[1;32mc:\\Users\\mnavas\\AppData\\Local\\Programs\\Python\\Python310\\lib\\site-packages\\pandas\\core\\indexes\\base.py:3621\u001b[0m, in \u001b[0;36mIndex.get_loc\u001b[1;34m(self, key, method, tolerance)\u001b[0m\n\u001b[0;32m   3620\u001b[0m \u001b[39mtry\u001b[39;00m:\n\u001b[1;32m-> 3621\u001b[0m     \u001b[39mreturn\u001b[39;00m \u001b[39mself\u001b[39;49m\u001b[39m.\u001b[39;49m_engine\u001b[39m.\u001b[39;49mget_loc(casted_key)\n\u001b[0;32m   3622\u001b[0m \u001b[39mexcept\u001b[39;00m \u001b[39mKeyError\u001b[39;00m \u001b[39mas\u001b[39;00m err:\n",
      "File \u001b[1;32mc:\\Users\\mnavas\\AppData\\Local\\Programs\\Python\\Python310\\lib\\site-packages\\pandas\\_libs\\index.pyx:136\u001b[0m, in \u001b[0;36mpandas._libs.index.IndexEngine.get_loc\u001b[1;34m()\u001b[0m\n",
      "File \u001b[1;32mc:\\Users\\mnavas\\AppData\\Local\\Programs\\Python\\Python310\\lib\\site-packages\\pandas\\_libs\\index.pyx:163\u001b[0m, in \u001b[0;36mpandas._libs.index.IndexEngine.get_loc\u001b[1;34m()\u001b[0m\n",
      "File \u001b[1;32mpandas\\_libs\\hashtable_class_helper.pxi:5198\u001b[0m, in \u001b[0;36mpandas._libs.hashtable.PyObjectHashTable.get_item\u001b[1;34m()\u001b[0m\n",
      "File \u001b[1;32mpandas\\_libs\\hashtable_class_helper.pxi:5206\u001b[0m, in \u001b[0;36mpandas._libs.hashtable.PyObjectHashTable.get_item\u001b[1;34m()\u001b[0m\n",
      "\u001b[1;31mKeyError\u001b[0m: 'source_type'",
      "\nThe above exception was the direct cause of the following exception:\n",
      "\u001b[1;31mKeyError\u001b[0m                                  Traceback (most recent call last)",
      "\u001b[1;32mc:\\Users\\mnavas\\CODE\\NextProcurement\\mappings\\rmlmappingToMorph.ipynb Cell 1'\u001b[0m in \u001b[0;36m<cell line: 14>\u001b[1;34m()\u001b[0m\n\u001b[0;32m      <a href='vscode-notebook-cell:/c%3A/Users/mnavas/CODE/NextProcurement/mappings/rmlmappingToMorph.ipynb#ch0000000?line=7'>8</a>\u001b[0m config_morph \u001b[39m=\u001b[39m \u001b[39m\"\"\"\u001b[39m\n\u001b[0;32m      <a href='vscode-notebook-cell:/c%3A/Users/mnavas/CODE/NextProcurement/mappings/rmlmappingToMorph.ipynb#ch0000000?line=8'>9</a>\u001b[0m \u001b[39m                            [DataSourcePARQUET]\u001b[39m\n\u001b[0;32m     <a href='vscode-notebook-cell:/c%3A/Users/mnavas/CODE/NextProcurement/mappings/rmlmappingToMorph.ipynb#ch0000000?line=9'>10</a>\u001b[0m \u001b[39m                            file_path=\u001b[39m\u001b[39m\"\"\"\u001b[39m \u001b[39m+\u001b[39m file_path \u001b[39m+\u001b[39m \u001b[39m\"\"\"\u001b[39m\n\u001b[0;32m     <a href='vscode-notebook-cell:/c%3A/Users/mnavas/CODE/NextProcurement/mappings/rmlmappingToMorph.ipynb#ch0000000?line=10'>11</a>\u001b[0m \u001b[39m                            mappings=\u001b[39m\u001b[39m\"\"\"\u001b[39m \u001b[39m+\u001b[39m rml\n\u001b[0;32m     <a href='vscode-notebook-cell:/c%3A/Users/mnavas/CODE/NextProcurement/mappings/rmlmappingToMorph.ipynb#ch0000000?line=12'>13</a>\u001b[0m \u001b[39m# generate the triples and load them to an RDFlib graph\u001b[39;00m\n\u001b[1;32m---> <a href='vscode-notebook-cell:/c%3A/Users/mnavas/CODE/NextProcurement/mappings/rmlmappingToMorph.ipynb#ch0000000?line=13'>14</a>\u001b[0m graph \u001b[39m=\u001b[39m morph_kgc\u001b[39m.\u001b[39;49mmaterialize(config_morph)\n\u001b[0;32m     <a href='vscode-notebook-cell:/c%3A/Users/mnavas/CODE/NextProcurement/mappings/rmlmappingToMorph.ipynb#ch0000000?line=14'>15</a>\u001b[0m \u001b[39m# work with the graph\u001b[39;00m\n\u001b[0;32m     <a href='vscode-notebook-cell:/c%3A/Users/mnavas/CODE/NextProcurement/mappings/rmlmappingToMorph.ipynb#ch0000000?line=15'>16</a>\u001b[0m graph\u001b[39m.\u001b[39mserialize(destination\u001b[39m=\u001b[39m\u001b[39m'\u001b[39m\u001b[39mresults/parquet.nt\u001b[39m\u001b[39m'\u001b[39m, \u001b[39mformat\u001b[39m\u001b[39m=\u001b[39m\u001b[39m'\u001b[39m\u001b[39mnt\u001b[39m\u001b[39m'\u001b[39m)\n",
      "File \u001b[1;32mc:\\Users\\mnavas\\AppData\\Local\\Programs\\Python\\Python310\\lib\\site-packages\\morph_kgc\\__init__.py:28\u001b[0m, in \u001b[0;36mmaterialize\u001b[1;34m(config)\u001b[0m\n\u001b[0;32m     24\u001b[0m config \u001b[39m=\u001b[39m load_config_from_argument(config)\n\u001b[0;32m     26\u001b[0m setup_oracle(config)\n\u001b[1;32m---> 28\u001b[0m mappings_df \u001b[39m=\u001b[39m retrieve_mappings(config)\n\u001b[0;32m     30\u001b[0m \u001b[39m# keep only asserted mapping rules\u001b[39;00m\n\u001b[0;32m     31\u001b[0m asserted_mapping_df \u001b[39m=\u001b[39m mappings_df\u001b[39m.\u001b[39mloc[mappings_df[\u001b[39m'\u001b[39m\u001b[39mtriples_map_type\u001b[39m\u001b[39m'\u001b[39m] \u001b[39m==\u001b[39m R2RML_TRIPLES_MAP_CLASS]\n",
      "File \u001b[1;32mc:\\Users\\mnavas\\AppData\\Local\\Programs\\Python\\Python310\\lib\\site-packages\\morph_kgc\\engine.py:28\u001b[0m, in \u001b[0;36mretrieve_mappings\u001b[1;34m(config)\u001b[0m\n\u001b[0;32m     25\u001b[0m     mappings_parser \u001b[39m=\u001b[39m MappingParser(config)\n\u001b[0;32m     27\u001b[0m     start_time \u001b[39m=\u001b[39m time\u001b[39m.\u001b[39mtime()\n\u001b[1;32m---> 28\u001b[0m     mappings \u001b[39m=\u001b[39m mappings_parser\u001b[39m.\u001b[39;49mparse_mappings()\n\u001b[0;32m     29\u001b[0m     logging\u001b[39m.\u001b[39minfo(\u001b[39mf\u001b[39m\u001b[39m'\u001b[39m\u001b[39mMappings processed in \u001b[39m\u001b[39m{\u001b[39;00mget_delta_time(start_time)\u001b[39m}\u001b[39;00m\u001b[39m seconds.\u001b[39m\u001b[39m'\u001b[39m)\n\u001b[0;32m     31\u001b[0m \u001b[39mif\u001b[39;00m config\u001b[39m.\u001b[39mis_write_parsed_mappings_file_provided():\n",
      "File \u001b[1;32mc:\\Users\\mnavas\\AppData\\Local\\Programs\\Python\\Python310\\lib\\site-packages\\morph_kgc\\mapping\\mapping_parser.py:392\u001b[0m, in \u001b[0;36mMappingParser.parse_mappings\u001b[1;34m(self)\u001b[0m\n\u001b[0;32m    390\u001b[0m \u001b[39mdef\u001b[39;00m \u001b[39mparse_mappings\u001b[39m(\u001b[39mself\u001b[39m):\n\u001b[0;32m    391\u001b[0m     \u001b[39mself\u001b[39m\u001b[39m.\u001b[39m_get_from_r2_rml()\n\u001b[1;32m--> 392\u001b[0m     \u001b[39mself\u001b[39;49m\u001b[39m.\u001b[39;49m_preprocess_mappings()\n\u001b[0;32m    393\u001b[0m     \u001b[39mself\u001b[39m\u001b[39m.\u001b[39m_infer_datatypes()\n\u001b[0;32m    395\u001b[0m     \u001b[39mself\u001b[39m\u001b[39m.\u001b[39mvalidate_mappings()\n",
      "File \u001b[1;32mc:\\Users\\mnavas\\AppData\\Local\\Programs\\Python\\Python310\\lib\\site-packages\\morph_kgc\\mapping\\mapping_parser.py:484\u001b[0m, in \u001b[0;36mMappingParser._preprocess_mappings\u001b[1;34m(self)\u001b[0m\n\u001b[0;32m    481\u001b[0m \u001b[39m# create a unique id for each mapping rule\u001b[39;00m\n\u001b[0;32m    482\u001b[0m \u001b[39mself\u001b[39m\u001b[39m.\u001b[39mmappings_df\u001b[39m.\u001b[39minsert(\u001b[39m0\u001b[39m, \u001b[39m'\u001b[39m\u001b[39mid\u001b[39m\u001b[39m'\u001b[39m, \u001b[39mself\u001b[39m\u001b[39m.\u001b[39mmappings_df\u001b[39m.\u001b[39mreset_index(drop\u001b[39m=\u001b[39m\u001b[39mTrue\u001b[39;00m)\u001b[39m.\u001b[39mindex)\n\u001b[1;32m--> 484\u001b[0m \u001b[39mself\u001b[39;49m\u001b[39m.\u001b[39;49m_remove_self_joins_from_mappings()\n",
      "File \u001b[1;32mc:\\Users\\mnavas\\AppData\\Local\\Programs\\Python\\Python310\\lib\\site-packages\\morph_kgc\\mapping\\mapping_parser.py:551\u001b[0m, in \u001b[0;36mMappingParser._remove_self_joins_from_mappings\u001b[1;34m(self)\u001b[0m\n\u001b[0;32m    547\u001b[0m \u001b[39mdef\u001b[39;00m \u001b[39m_remove_self_joins_from_mappings\u001b[39m(\u001b[39mself\u001b[39m):\n\u001b[0;32m    548\u001b[0m     \u001b[39m# TODO: remove (when possible) join conditions in quoted triples maps\u001b[39;00m\n\u001b[0;32m    549\u001b[0m \n\u001b[0;32m    550\u001b[0m     \u001b[39m# because RDB has no rml:source, use source_name for rml:source to facilitate self-join elimination\u001b[39;00m\n\u001b[1;32m--> 551\u001b[0m     \u001b[39mself\u001b[39m\u001b[39m.\u001b[39mmappings_df\u001b[39m.\u001b[39mloc[\u001b[39mself\u001b[39;49m\u001b[39m.\u001b[39;49mmappings_df[\u001b[39m'\u001b[39;49m\u001b[39msource_type\u001b[39;49m\u001b[39m'\u001b[39;49m] \u001b[39m==\u001b[39m RDB, \u001b[39m'\u001b[39m\u001b[39mdata_source\u001b[39m\u001b[39m'\u001b[39m] \u001b[39m=\u001b[39m \u001b[39mself\u001b[39m\u001b[39m.\u001b[39mmappings_df[\u001b[39m'\u001b[39m\u001b[39msource_name\u001b[39m\u001b[39m'\u001b[39m]\n\u001b[0;32m    553\u001b[0m     \u001b[39mfor\u001b[39;00m i, mapping_rule \u001b[39min\u001b[39;00m \u001b[39mself\u001b[39m\u001b[39m.\u001b[39mmappings_df\u001b[39m.\u001b[39miterrows():\n\u001b[0;32m    554\u001b[0m         \u001b[39mif\u001b[39;00m pd\u001b[39m.\u001b[39mnotna(mapping_rule[\u001b[39m'\u001b[39m\u001b[39mobject_parent_triples_map\u001b[39m\u001b[39m'\u001b[39m]):\n",
      "File \u001b[1;32mc:\\Users\\mnavas\\AppData\\Local\\Programs\\Python\\Python310\\lib\\site-packages\\pandas\\core\\frame.py:3505\u001b[0m, in \u001b[0;36mDataFrame.__getitem__\u001b[1;34m(self, key)\u001b[0m\n\u001b[0;32m   3503\u001b[0m \u001b[39mif\u001b[39;00m \u001b[39mself\u001b[39m\u001b[39m.\u001b[39mcolumns\u001b[39m.\u001b[39mnlevels \u001b[39m>\u001b[39m \u001b[39m1\u001b[39m:\n\u001b[0;32m   3504\u001b[0m     \u001b[39mreturn\u001b[39;00m \u001b[39mself\u001b[39m\u001b[39m.\u001b[39m_getitem_multilevel(key)\n\u001b[1;32m-> 3505\u001b[0m indexer \u001b[39m=\u001b[39m \u001b[39mself\u001b[39;49m\u001b[39m.\u001b[39;49mcolumns\u001b[39m.\u001b[39;49mget_loc(key)\n\u001b[0;32m   3506\u001b[0m \u001b[39mif\u001b[39;00m is_integer(indexer):\n\u001b[0;32m   3507\u001b[0m     indexer \u001b[39m=\u001b[39m [indexer]\n",
      "File \u001b[1;32mc:\\Users\\mnavas\\AppData\\Local\\Programs\\Python\\Python310\\lib\\site-packages\\pandas\\core\\indexes\\base.py:3623\u001b[0m, in \u001b[0;36mIndex.get_loc\u001b[1;34m(self, key, method, tolerance)\u001b[0m\n\u001b[0;32m   3621\u001b[0m     \u001b[39mreturn\u001b[39;00m \u001b[39mself\u001b[39m\u001b[39m.\u001b[39m_engine\u001b[39m.\u001b[39mget_loc(casted_key)\n\u001b[0;32m   3622\u001b[0m \u001b[39mexcept\u001b[39;00m \u001b[39mKeyError\u001b[39;00m \u001b[39mas\u001b[39;00m err:\n\u001b[1;32m-> 3623\u001b[0m     \u001b[39mraise\u001b[39;00m \u001b[39mKeyError\u001b[39;00m(key) \u001b[39mfrom\u001b[39;00m \u001b[39merr\u001b[39;00m\n\u001b[0;32m   3624\u001b[0m \u001b[39mexcept\u001b[39;00m \u001b[39mTypeError\u001b[39;00m:\n\u001b[0;32m   3625\u001b[0m     \u001b[39m# If we have a listlike key, _check_indexing_error will raise\u001b[39;00m\n\u001b[0;32m   3626\u001b[0m     \u001b[39m#  InvalidIndexError. Otherwise we fall through and re-raise\u001b[39;00m\n\u001b[0;32m   3627\u001b[0m     \u001b[39m#  the TypeError.\u001b[39;00m\n\u001b[0;32m   3628\u001b[0m     \u001b[39mself\u001b[39m\u001b[39m.\u001b[39m_check_indexing_error(key)\n",
      "\u001b[1;31mKeyError\u001b[0m: 'source_type'"
     ]
    }
   ],
   "source": [
    "import morph_kgc\n",
    "from rdflib.plugin import register, Serializer, Parser\n",
    "\n",
    "file_path = \"data/outsiders_2021.parquet\"\n",
    "rml = \"rml-mappings/mappingOCDS.ttl\"\n",
    "\n",
    "# configuration file\n",
    "config_morph = \"\"\"\n",
    "                            [DataSourcePARQUET]\n",
    "                            file_path=\"\"\" + file_path + \"\"\"\n",
    "                            mappings=\"\"\" + rml\n",
    "\n",
    "# generate the triples and load them to an RDFlib graph\n",
    "graph = morph_kgc.materialize(config_morph)\n",
    "# work with the graph\n",
    "graph.serialize(destination='results/parquet.nt', format='nt')"
   ]
  },
  {
   "cell_type": "code",
   "execution_count": 2,
   "metadata": {},
   "outputs": [
    {
     "name": "stderr",
     "output_type": "stream",
     "text": [
      "INFO | 2022-07-05 18:59:59,003 | 256 mapping rules retrieved.\n",
      "INFO | 2022-07-05 18:59:59,301 | Mapping partition with 220 groups generated.\n",
      "INFO | 2022-07-05 18:59:59,306 | Maximum number of rules within mapping group: 3.\n",
      "INFO | 2022-07-05 18:59:59,354 | Mappings processed in 6.714 seconds.\n",
      "INFO | 2022-07-05 19:00:13,667 | Number of triples generated in total: 61.\n",
      "c:\\Users\\mnavas\\AppData\\Local\\Programs\\Python\\Python310\\lib\\site-packages\\rdflib\\plugins\\serializers\\nt.py:36: UserWarning: NTSerializer always uses UTF-8 encoding. Given encoding was: None\n",
      "  warnings.warn(\n"
     ]
    },
    {
     "data": {
      "text/plain": [
       "<Graph identifier=N3cc11ffcfc91440d847d42ff34f42108 (<class 'rdflib.graph.Graph'>)>"
      ]
     },
     "execution_count": 2,
     "metadata": {},
     "output_type": "execute_result"
    }
   ],
   "source": [
    "import morph_kgc\n",
    "\n",
    "file_path = \"data/2019-01-01/ocds-0c46vo-0009-DN379620-1-tender-release.xml\"\n",
    "rml = \"rml-mappings/mapping.ttl\"\n",
    "\n",
    "# configuration file\n",
    "config_morph = \"\"\"\n",
    "            file_path=\"\"\" + file_path + \"\"\"\n",
    "            mappings=\"\"\" + rml\n",
    "\n",
    "# generate the triples and load them to an RDFlib graph\n",
    "graph = morph_kgc.materialize(config_morph)\n",
    "# work with the graph\n",
    "graph.serialize(destination='results/xml.nt', format='nt')"
   ]
  }
 ],
 "metadata": {
  "kernelspec": {
   "display_name": "Python 3.10.5 64-bit",
   "language": "python",
   "name": "python3"
  },
  "language_info": {
   "codemirror_mode": {
    "name": "ipython",
    "version": 3
   },
   "file_extension": ".py",
   "mimetype": "text/x-python",
   "name": "python",
   "nbconvert_exporter": "python",
   "pygments_lexer": "ipython3",
   "version": "3.10.5"
  },
  "orig_nbformat": 4,
  "vscode": {
   "interpreter": {
    "hash": "cb77e85e60cc9478e8cf715047cdbf77fb5c1d504795081bb2dadf13f33333e1"
   }
  }
 },
 "nbformat": 4,
 "nbformat_minor": 2
}
